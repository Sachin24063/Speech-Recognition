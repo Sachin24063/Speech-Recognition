{
 "cells": [
  {
   "cell_type": "code",
   "execution_count": 29,
   "id": "59d62137",
   "metadata": {},
   "outputs": [],
   "source": [
    "import speech_recognition as sr\n",
    "import pyttsx3 \n",
    "import nltk\n",
    "from nltk.tokenize import word_tokenize\n",
    "from nltk.corpus import stopwords\n",
    "from nltk.stem import PorterStemmer\n",
    "from nltk import pos_tag\n",
    "from collections import Counter\n",
    "from pydub import AudioSegment\n",
    "import matplotlib.pyplot as plt\n",
    "import spacy\n",
    "from spacy import displacy"
   ]
  },
  {
   "cell_type": "code",
   "execution_count": 10,
   "id": "eddaa7a6",
   "metadata": {},
   "outputs": [
    {
     "name": "stderr",
     "output_type": "stream",
     "text": [
      "[nltk_data] Downloading package punkt to /Users/sachin/nltk_data...\n",
      "[nltk_data]   Package punkt is already up-to-date!\n",
      "[nltk_data] Downloading package stopwords to\n",
      "[nltk_data]     /Users/sachin/nltk_data...\n",
      "[nltk_data]   Package stopwords is already up-to-date!\n",
      "[nltk_data] Downloading package averaged_perceptron_tagger to\n",
      "[nltk_data]     /Users/sachin/nltk_data...\n",
      "[nltk_data]   Package averaged_perceptron_tagger is already up-to-\n",
      "[nltk_data]       date!\n"
     ]
    },
    {
     "data": {
      "text/plain": [
       "True"
      ]
     },
     "execution_count": 10,
     "metadata": {},
     "output_type": "execute_result"
    }
   ],
   "source": [
    "# Initialize the recognizer \n",
    "r = sr.Recognizer() \n",
    "nltk.download('punkt')\n",
    "nltk.download('stopwords')\n",
    "nltk.download('averaged_perceptron_tagger')"
   ]
  },
  {
   "cell_type": "code",
   "execution_count": 11,
   "id": "e1db6ca7",
   "metadata": {},
   "outputs": [],
   "source": [
    "# Function to convert text to speech\n",
    "def SpeakText(command):\n",
    "    # Initialize the engine\n",
    "    engine = pyttsx3.init()\n",
    "    engine.say(command) \n",
    "    engine.runAndWait()"
   ]
  },
  {
   "cell_type": "code",
   "execution_count": 4,
   "id": "0393331c",
   "metadata": {},
   "outputs": [],
   "source": [
    "# Function to perform text processing tasks\n",
    "def process_text(text):\n",
    "    # Tokenization\n",
    "    tokens = word_tokenize(text)\n",
    "    \n",
    "    # Stopwords removal\n",
    "    stop_words = set(stopwords.words('english'))\n",
    "    filtered_tokens = [word for word in tokens if word.lower() not in stop_words]\n",
    "    \n",
    "    # Parts of speech tagging\n",
    "    pos_tags = pos_tag(filtered_tokens)\n",
    "    \n",
    "    # Stemming\n",
    "    porter = PorterStemmer()\n",
    "    stemmed_tokens = [porter.stem(word) for word in filtered_tokens]\n",
    "    \n",
    "    # Word frequency and count\n",
    "    word_freq = Counter(stemmed_tokens)\n",
    "    \n",
    "    return word_freq"
   ]
  },
  {
   "cell_type": "code",
   "execution_count": 12,
   "id": "31ac731d",
   "metadata": {},
   "outputs": [],
   "source": [
    "# Function to extract text from an mp3 file\n",
    "def extract_text_from_mp3(mp3_file):\n",
    "    # Convert MP3 to WAV\n",
    "    audio = AudioSegment.from_mp3(mp3_file)\n",
    "    wav_file = \"temp.wav\"\n",
    "    audio.export(wav_file, format=\"wav\")\n",
    "\n",
    "    # Extract text from WAV\n",
    "    with sr.AudioFile(wav_file) as source:\n",
    "        audio = r.record(source) # Record the entire audio file\n",
    "        text = r.recognize_google(audio)\n",
    "        return text"
   ]
  },
  {
   "cell_type": "code",
   "execution_count": 21,
   "id": "3ffdea4b",
   "metadata": {},
   "outputs": [],
   "source": [
    "# Function to visualize word frequency\n",
    "def visualize_word_frequency(word_freq):\n",
    "    # Extract words and their frequencies\n",
    "    words = list(word_freq.keys())\n",
    "    frequencies = list(word_freq.values())\n",
    "\n",
    "    # Plotting\n",
    "    plt.figure(figsize=(10, 6))\n",
    "    plt.bar(words, frequencies, color='skyblue')\n",
    "    plt.xlabel('Words')\n",
    "    plt.ylabel('Frequency')\n",
    "    plt.title('Word Frequency Distribution')\n",
    "    plt.xticks(rotation=45)\n",
    "    plt.tight_layout()\n",
    "    plt.show()"
   ]
  },
  {
   "cell_type": "code",
   "execution_count": 31,
   "id": "e0475b65",
   "metadata": {
    "scrolled": true
   },
   "outputs": [],
   "source": [
    "# Path to the mp3 file\n",
    "mp3_file_path = \"Record (online-voice-recorder.com).mp3\""
   ]
  },
  {
   "cell_type": "code",
   "execution_count": 32,
   "id": "19ef1558",
   "metadata": {},
   "outputs": [],
   "source": [
    "# Extract text from mp3 file\n",
    "extracted_text = extract_text_from_mp3(mp3_file_path)"
   ]
  },
  {
   "cell_type": "code",
   "execution_count": 33,
   "id": "fa2e04da",
   "metadata": {},
   "outputs": [
    {
     "data": {
      "text/plain": [
       "'Apple is a company founded by Steve Jobs'"
      ]
     },
     "execution_count": 33,
     "metadata": {},
     "output_type": "execute_result"
    }
   ],
   "source": [
    "extracted_text"
   ]
  },
  {
   "cell_type": "code",
   "execution_count": 34,
   "id": "d46ca669",
   "metadata": {},
   "outputs": [],
   "source": [
    "# Load the English NER model from SpaCy\n",
    "nlp = spacy.load(\"en_core_web_sm\")\n",
    "doc = nlp(extracted_text)"
   ]
  },
  {
   "cell_type": "code",
   "execution_count": 35,
   "id": "18344f25",
   "metadata": {},
   "outputs": [
    {
     "data": {
      "text/html": [
       "<span class=\"tex2jax_ignore\"><div class=\"entities\" style=\"line-height: 2.5; direction: ltr\">\n",
       "<mark class=\"entity\" style=\"background: #7aecec; padding: 0.45em 0.6em; margin: 0 0.25em; line-height: 1; border-radius: 0.35em;\">\n",
       "    Apple\n",
       "    <span style=\"font-size: 0.8em; font-weight: bold; line-height: 1; border-radius: 0.35em; vertical-align: middle; margin-left: 0.5rem\">ORG</span>\n",
       "</mark>\n",
       " is a company founded by \n",
       "<mark class=\"entity\" style=\"background: #aa9cfc; padding: 0.45em 0.6em; margin: 0 0.25em; line-height: 1; border-radius: 0.35em;\">\n",
       "    Steve Jobs\n",
       "    <span style=\"font-size: 0.8em; font-weight: bold; line-height: 1; border-radius: 0.35em; vertical-align: middle; margin-left: 0.5rem\">PERSON</span>\n",
       "</mark>\n",
       "</div></span>"
      ],
      "text/plain": [
       "<IPython.core.display.HTML object>"
      ]
     },
     "metadata": {},
     "output_type": "display_data"
    }
   ],
   "source": [
    "displacy.render(doc, style=\"ent\", jupyter=True)"
   ]
  },
  {
   "cell_type": "code",
   "execution_count": 36,
   "id": "e952feaa",
   "metadata": {},
   "outputs": [],
   "source": [
    "# Perform text processing tasks\n",
    "processed_text = process_text(extracted_text)"
   ]
  },
  {
   "cell_type": "code",
   "execution_count": 37,
   "id": "63ad522c",
   "metadata": {},
   "outputs": [
    {
     "data": {
      "text/plain": [
       "Counter({'appl': 1, 'compani': 1, 'found': 1, 'steve': 1, 'job': 1})"
      ]
     },
     "execution_count": 37,
     "metadata": {},
     "output_type": "execute_result"
    }
   ],
   "source": [
    "processed_text"
   ]
  },
  {
   "cell_type": "code",
   "execution_count": 38,
   "id": "dedbd299",
   "metadata": {},
   "outputs": [
    {
     "data": {
      "image/png": "[encoded data removed]",
      "text/plain": [
       "<Figure size 1000x600 with 1 Axes>"
      ]
     },
     "metadata": {},
     "output_type": "display_data"
    }
   ],
   "source": [
    "# Visualize word frequency\n",
    "visualize_word_frequency(processed_text)"
   ]
  },
  {
   "cell_type": "code",
   "execution_count": null,
   "id": "785f6bb6",
   "metadata": {},
   "outputs": [],
   "source": []
  }
 ],
 "metadata": {
  "kernelspec": {
   "display_name": "Python 3.10 (tensorflow)",
   "language": "python",
   "name": "tensorflow"
  },
  "language_info": {
   "codemirror_mode": {
    "name": "ipython",
    "version": 3
   },
   "file_extension": ".py",
   "mimetype": "text/x-python",
   "name": "python",
   "nbconvert_exporter": "python",
   "pygments_lexer": "ipython3",
   "version": "3.11.4"
  }
 },
 "nbformat": 4,
 "nbformat_minor": 5
}
